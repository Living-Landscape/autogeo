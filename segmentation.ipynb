{
 "cells": [
  {
   "cell_type": "markdown",
   "id": "5158ca0b",
   "metadata": {},
   "source": [
    "okoli Hartmanice\n",
    "\n",
    "objekty: 9117, 3140, 3296, 380, 4538, 1784, 1926\n",
    "\n",
    "stred: 3140"
   ]
  },
  {
   "cell_type": "code",
   "execution_count": 10,
   "id": "3893cfb8",
   "metadata": {},
   "outputs": [
    {
     "name": "stdout",
     "output_type": "stream",
     "text": [
      "The autoreload extension is already loaded. To reload it, use:\n",
      "  %reload_ext autoreload\n"
     ]
    }
   ],
   "source": [
    "%load_ext autoreload\n",
    "%autoreload 2\n",
    "\n",
    "import os\n",
    "import json\n",
    "\n",
    "import matplotlib.pyplot as plt\n",
    "import cv2\n",
    "import numpy as np\n",
    "import scipy.ndimage\n",
    "\n",
    "from utils import read_area_images, show_image, read_image\n",
    "from segmentation import MapExtractor"
   ]
  },
  {
   "cell_type": "code",
   "execution_count": 11,
   "id": "a9d91507",
   "metadata": {},
   "outputs": [],
   "source": [
    "area_path = 'objects'\n",
    "images_path = 'images'"
   ]
  },
  {
   "cell_type": "code",
   "execution_count": 12,
   "id": "c0d3bb57",
   "metadata": {},
   "outputs": [],
   "source": [
    "image = read_image(os.path.join(images_path, '11013_14674'))"
   ]
  },
  {
   "cell_type": "code",
   "execution_count": 13,
   "id": "f2acc638",
   "metadata": {},
   "outputs": [],
   "source": [
    "show_image(image)"
   ]
  },
  {
   "cell_type": "code",
   "execution_count": 14,
   "id": "ea5d617e",
   "metadata": {},
   "outputs": [],
   "source": [
    "extractor = MapExtractor(np.array(image))"
   ]
  },
  {
   "cell_type": "code",
   "execution_count": 15,
   "id": "a352fddb",
   "metadata": {
    "scrolled": false
   },
   "outputs": [
    {
     "name": "stdout",
     "output_type": "stream",
     "text": [
      "transparent size 0 0 0 0\n",
      "border size 89 68\n",
      "background mean [231.39129252 219.54766978 185.25523638]\n",
      "background std [3. 3. 3.]\n"
     ]
    }
   ],
   "source": [
    "extractor.compute_borders()\n",
    "print(\n",
    "    'transparent size',\n",
    "     extractor.transparent_left,\n",
    "     extractor.transparent_right,\n",
    "     extractor.transparent_top,\n",
    "     extractor.transparent_bottom,\n",
    ")\n",
    "print('border size', extractor.border_width, extractor.border_height)\n",
    "print('background mean', extractor.border_mean)\n",
    "print('background std', extractor.border_std)"
   ]
  },
  {
   "cell_type": "code",
   "execution_count": 16,
   "id": "946a13ae",
   "metadata": {
    "scrolled": false
   },
   "outputs": [],
   "source": [
    "extractor.strip_background()\n",
    "show_image(image, masks=extractor.image_mask)"
   ]
  },
  {
   "cell_type": "code",
   "execution_count": null,
   "id": "d9d343bb",
   "metadata": {
    "scrolled": false
   },
   "outputs": [],
   "source": [
    "extractor.remove_thin_structures()\n",
    "show_image(image, masks=extractor.image_mask)"
   ]
  },
  {
   "cell_type": "code",
   "execution_count": 20,
   "id": "d273d59e",
   "metadata": {},
   "outputs": [
    {
     "name": "stdout",
     "output_type": "stream",
     "text": [
      "segments 2\n"
     ]
    }
   ],
   "source": [
    "extractor.find_segments()\n",
    "print('segments', len(extractor.segments))\n",
    "show_image(\n",
    "    image,\n",
    "    np.sum([extractor.draw_segment(segment) for segment in extractor.segments], axis=0),\n",
    ")"
   ]
  }
 ],
 "metadata": {
  "kernelspec": {
   "display_name": "Python 3 (ipykernel)",
   "language": "python",
   "name": "python3"
  },
  "language_info": {
   "codemirror_mode": {
    "name": "ipython",
    "version": 3
   },
   "file_extension": ".py",
   "mimetype": "text/x-python",
   "name": "python",
   "nbconvert_exporter": "python",
   "pygments_lexer": "ipython3",
   "version": "3.10.2"
  }
 },
 "nbformat": 4,
 "nbformat_minor": 5
}
